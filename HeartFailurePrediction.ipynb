{
    "cells": [
        {
            "cell_type": "code",
            "execution_count": None,
            "metadata": {},
            "outputs": [],
            "source": [
                "# Importing Libraries\n",
                "import numpy as np\n",
                "import pandas as pd\n",
                "import matplotlib.pyplot as plt\n",
                "from sklearn.model_selection import train_test_split\n",
                "from sklearn.preprocessing import LabelEncoder, StandardScaler\n",
                "from sklearn.ensemble import RandomForestClassifier\n",
                "import joblib\n",
                "\n",
                "# Importing Dataset\n",
                "dataset = pd.read_csv(\"heart.csv\")\n",
                "X = dataset.iloc[:, :-1].values\n",
                "y = dataset.iloc[:, -1].values\n",
                "\n",
                "# Label Encoding\n",
                "le1 = LabelEncoder()\n",
                "X[:, 1] = le1.fit_transform(X[:, 1])\n",
                "# ... (remaining encoding code)\n",
                "\n",
                "# Model Training\n",
                "model_randomforest = RandomForestClassifier(random_state=0)\n",
                "model_randomforest.fit(X_train, y_train)\n",
                "\n",
                "# Save Model\n",
                "joblib.dump(model_randomforest, \"heart_disease_model.pkl\")\n",
                "joblib.dump(scaler, \"heart_scaler.pkl\")"
            ]
        }
    ],
    "metadata": {
        "kernelspec": {"display_name": "Python 3", "language": "python", "name": "python3"},
        "language_info": {"version": "3.8.5"}
    }
}

with open("HeartDiseasePrediction.ipynb", "w") as f:
    json.dump(notebook_content, f, indent=2)
